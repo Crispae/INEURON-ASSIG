{
 "cells": [
  {
   "cell_type": "markdown",
   "id": "3706adff",
   "metadata": {},
   "source": [
    "### 1.1 Write a Python Program(with class concepts) to find the area of the triangle using the below formula. area = (s*(s-a)*(s-b)*(s-c)) ** 0.5\n",
    "### Function to take the length of the sides of triangle from user should be defined in the parent\n",
    "<br>\n",
    "\n",
    "### class and function to calculate the area should be defined in subclass."
   ]
  },
  {
   "cell_type": "code",
   "execution_count": 44,
   "id": "5d8c4eb9",
   "metadata": {},
   "outputs": [],
   "source": [
    "class Triangle:\n",
    "    \"\"\"Base class of Traingle\"\"\"\n",
    "    \n",
    "    def __init__(self,\n",
    "                s: \"side of triange[int]\",\n",
    "                a:\"side of triange[int]\",\n",
    "                b:\"side of triange[int]\",\n",
    "                c:\"side of triange[int]\",) -> None:\n",
    "        self.a = a\n",
    "        self.s = s\n",
    "        self.c = c\n",
    "        self.b = b\n",
    "        \n",
    "class TriangleArea(Triangle):\n",
    "    \n",
    "    def __init__(self,\n",
    "                s: \"side of triange[int]\",\n",
    "                a:\"side of triange[int]\",\n",
    "                b:\"side of triange[int]\",\n",
    "                c:\"side of triange[int]\",):\n",
    "        super().__init__(s,a,b,c)\n",
    "    \n",
    "    @property    \n",
    "    def area(self):\n",
    "        _area = (self.s*(self.s-self.a)\\\n",
    "                 *(self.s-self.b)*\\\n",
    "                 (self.s-self.c))**0.5\n",
    "        \n",
    "        return _area\n",
    "    \n",
    "    "
   ]
  },
  {
   "cell_type": "code",
   "execution_count": 45,
   "id": "7475e791",
   "metadata": {},
   "outputs": [],
   "source": [
    "area = TriangleArea(2,4,5,6)"
   ]
  },
  {
   "cell_type": "code",
   "execution_count": 46,
   "id": "8bcb7d76",
   "metadata": {},
   "outputs": [
    {
     "data": {
      "text/plain": [
       "(4.242300954899627e-16+6.928203230275509j)"
      ]
     },
     "execution_count": 46,
     "metadata": {},
     "output_type": "execute_result"
    }
   ],
   "source": [
    "area.area"
   ]
  },
  {
   "cell_type": "markdown",
   "id": "5830b71a",
   "metadata": {},
   "source": [
    "## 1.2 Write a function filter_long_words() that takes a list of words and an integer n and returns the list of words that are longer than n."
   ]
  },
  {
   "cell_type": "code",
   "execution_count": 52,
   "id": "2b862a50",
   "metadata": {},
   "outputs": [],
   "source": [
    "def filter_long_words(words: list, n: int):\n",
    "    \"\"\"Function to filter words less then a particular value\"\"\"\n",
    "    return [word for word in words \n",
    "            if len(word)>n]"
   ]
  },
  {
   "cell_type": "code",
   "execution_count": 53,
   "id": "6df9190a",
   "metadata": {},
   "outputs": [],
   "source": [
    "words = [\"hello\",\"ineuron\",\"Python\",\"DataScience\",\"good\",\"bad\"]"
   ]
  },
  {
   "cell_type": "code",
   "execution_count": 54,
   "id": "f55c0ca5",
   "metadata": {},
   "outputs": [],
   "source": [
    "short_word = filter_long_words(words=words,n=4)"
   ]
  },
  {
   "cell_type": "code",
   "execution_count": 55,
   "id": "0e815cea",
   "metadata": {},
   "outputs": [
    {
     "data": {
      "text/plain": [
       "['hello', 'ineuron', 'Python', 'DataScience']"
      ]
     },
     "execution_count": 55,
     "metadata": {},
     "output_type": "execute_result"
    }
   ],
   "source": [
    "short_word"
   ]
  },
  {
   "cell_type": "markdown",
   "id": "c49b0bf1",
   "metadata": {},
   "source": [
    "### Filter approach"
   ]
  },
  {
   "cell_type": "code",
   "execution_count": 56,
   "id": "934815e9",
   "metadata": {},
   "outputs": [
    {
     "data": {
      "text/plain": [
       "['hello', 'ineuron', 'Python', 'DataScience']"
      ]
     },
     "execution_count": 56,
     "metadata": {},
     "output_type": "execute_result"
    }
   ],
   "source": [
    "list(filter((lambda word: len(word)>4),words,))"
   ]
  },
  {
   "cell_type": "markdown",
   "id": "1ef5fa26",
   "metadata": {},
   "source": [
    "### 1.2 Write a function filter_long_words() that takes a list of words and an integer n and returns\n",
    "### the list of words that are longer than n."
   ]
  },
  {
   "cell_type": "code",
   "execution_count": 57,
   "id": "968a5028",
   "metadata": {},
   "outputs": [],
   "source": [
    "def word2int(words: list) -> list:\n",
    "    \"\"\"Convert word to int by\n",
    "        counting char in word\"\"\"\n",
    "    return [len(word) for word in words]\n",
    "    "
   ]
  },
  {
   "cell_type": "code",
   "execution_count": 58,
   "id": "ac775257",
   "metadata": {},
   "outputs": [
    {
     "data": {
      "text/plain": [
       "[5, 7, 6, 11, 4, 3]"
      ]
     },
     "execution_count": 58,
     "metadata": {},
     "output_type": "execute_result"
    }
   ],
   "source": [
    "word2int(words = words)"
   ]
  },
  {
   "cell_type": "markdown",
   "id": "dda6d3de",
   "metadata": {},
   "source": [
    "### 2.2 Write a Python function which takes a character (i.e. a string of length 1) and returns True if it is a vowel, False otherwise."
   ]
  },
  {
   "cell_type": "code",
   "execution_count": 59,
   "id": "2669aa9b",
   "metadata": {},
   "outputs": [],
   "source": [
    "def isvowel(char: str) -> bool:\n",
    "    vowels = [\"a\",\"e\",\"i\",\"o\",\"u\"]\n",
    "    \n",
    "    return char in vowels"
   ]
  },
  {
   "cell_type": "code",
   "execution_count": 63,
   "id": "a8ec1964",
   "metadata": {},
   "outputs": [
    {
     "data": {
      "text/plain": [
       "(True, False)"
      ]
     },
     "execution_count": 63,
     "metadata": {},
     "output_type": "execute_result"
    }
   ],
   "source": [
    "isvowel(\"a\"),isvowel(\"j\")"
   ]
  },
  {
   "cell_type": "code",
   "execution_count": null,
   "id": "0ad73a45",
   "metadata": {},
   "outputs": [],
   "source": []
  }
 ],
 "metadata": {
  "kernelspec": {
   "display_name": "Python 3",
   "language": "python",
   "name": "python3"
  },
  "language_info": {
   "codemirror_mode": {
    "name": "ipython",
    "version": 3
   },
   "file_extension": ".py",
   "mimetype": "text/x-python",
   "name": "python",
   "nbconvert_exporter": "python",
   "pygments_lexer": "ipython3",
   "version": "3.8.2"
  }
 },
 "nbformat": 4,
 "nbformat_minor": 5
}
